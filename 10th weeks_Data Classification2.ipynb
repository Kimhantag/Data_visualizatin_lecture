{
 "cells": [
  {
   "cell_type": "markdown",
   "id": "c1ecb109",
   "metadata": {},
   "source": [
    "#                                                                             2018015027 정보통계학과 김한탁"
   ]
  },
  {
   "cell_type": "markdown",
   "id": "525a8976",
   "metadata": {},
   "source": [
    "# 1. Loading libraries"
   ]
  },
  {
   "cell_type": "code",
   "execution_count": 1,
   "id": "47860471",
   "metadata": {},
   "outputs": [],
   "source": [
    "import pandas as pd\n",
    "import numpy as np\n",
    "import matplotlib.pyplot as plt\n",
    "import seaborn as sns\n",
    "\n",
    "from sklearn.model_selection import train_test_split\n",
    "from sklearn.neighbors import KNeighborsClassifier\n",
    "from sklearn.svm import SVC\n",
    "from sklearn.naive_bayes import GaussianNB\n",
    "from sklearn.metrics import confusion_matrix\n",
    "from sklearn import metrics"
   ]
  },
  {
   "cell_type": "markdown",
   "id": "a08c7781",
   "metadata": {},
   "source": [
    "# 2. Loading the dataset"
   ]
  },
  {
   "cell_type": "markdown",
   "id": "e72314c8",
   "metadata": {},
   "source": [
    "### 2.1 dataset"
   ]
  },
  {
   "cell_type": "code",
   "execution_count": 2,
   "id": "770f3b9f",
   "metadata": {
    "scrolled": false
   },
   "outputs": [
    {
     "data": {
      "text/html": [
       "<div>\n",
       "<style scoped>\n",
       "    .dataframe tbody tr th:only-of-type {\n",
       "        vertical-align: middle;\n",
       "    }\n",
       "\n",
       "    .dataframe tbody tr th {\n",
       "        vertical-align: top;\n",
       "    }\n",
       "\n",
       "    .dataframe thead th {\n",
       "        text-align: right;\n",
       "    }\n",
       "</style>\n",
       "<table border=\"1\" class=\"dataframe\">\n",
       "  <thead>\n",
       "    <tr style=\"text-align: right;\">\n",
       "      <th></th>\n",
       "      <th>age</th>\n",
       "      <th>job</th>\n",
       "      <th>marital</th>\n",
       "      <th>education</th>\n",
       "      <th>default</th>\n",
       "      <th>housing</th>\n",
       "      <th>loan</th>\n",
       "      <th>contact</th>\n",
       "      <th>month</th>\n",
       "      <th>day_of_week</th>\n",
       "      <th>...</th>\n",
       "      <th>campaign</th>\n",
       "      <th>pdays</th>\n",
       "      <th>previous</th>\n",
       "      <th>poutcome</th>\n",
       "      <th>emp.var.rate</th>\n",
       "      <th>cons.price.idx</th>\n",
       "      <th>cons.conf.idx</th>\n",
       "      <th>euribor3m</th>\n",
       "      <th>nr.employed</th>\n",
       "      <th>y</th>\n",
       "    </tr>\n",
       "  </thead>\n",
       "  <tbody>\n",
       "    <tr>\n",
       "      <th>0</th>\n",
       "      <td>56</td>\n",
       "      <td>housemaid</td>\n",
       "      <td>married</td>\n",
       "      <td>basic.4y</td>\n",
       "      <td>no</td>\n",
       "      <td>no</td>\n",
       "      <td>no</td>\n",
       "      <td>telephone</td>\n",
       "      <td>may</td>\n",
       "      <td>mon</td>\n",
       "      <td>...</td>\n",
       "      <td>1</td>\n",
       "      <td>999</td>\n",
       "      <td>0</td>\n",
       "      <td>nonexistent</td>\n",
       "      <td>1.1</td>\n",
       "      <td>93.994</td>\n",
       "      <td>-36.4</td>\n",
       "      <td>4.857</td>\n",
       "      <td>5191.0</td>\n",
       "      <td>no</td>\n",
       "    </tr>\n",
       "    <tr>\n",
       "      <th>1</th>\n",
       "      <td>57</td>\n",
       "      <td>services</td>\n",
       "      <td>married</td>\n",
       "      <td>high.school</td>\n",
       "      <td>unknown</td>\n",
       "      <td>no</td>\n",
       "      <td>no</td>\n",
       "      <td>telephone</td>\n",
       "      <td>may</td>\n",
       "      <td>mon</td>\n",
       "      <td>...</td>\n",
       "      <td>1</td>\n",
       "      <td>999</td>\n",
       "      <td>0</td>\n",
       "      <td>nonexistent</td>\n",
       "      <td>1.1</td>\n",
       "      <td>93.994</td>\n",
       "      <td>-36.4</td>\n",
       "      <td>4.857</td>\n",
       "      <td>5191.0</td>\n",
       "      <td>no</td>\n",
       "    </tr>\n",
       "    <tr>\n",
       "      <th>2</th>\n",
       "      <td>37</td>\n",
       "      <td>services</td>\n",
       "      <td>married</td>\n",
       "      <td>high.school</td>\n",
       "      <td>no</td>\n",
       "      <td>yes</td>\n",
       "      <td>no</td>\n",
       "      <td>telephone</td>\n",
       "      <td>may</td>\n",
       "      <td>mon</td>\n",
       "      <td>...</td>\n",
       "      <td>1</td>\n",
       "      <td>999</td>\n",
       "      <td>0</td>\n",
       "      <td>nonexistent</td>\n",
       "      <td>1.1</td>\n",
       "      <td>93.994</td>\n",
       "      <td>-36.4</td>\n",
       "      <td>4.857</td>\n",
       "      <td>5191.0</td>\n",
       "      <td>no</td>\n",
       "    </tr>\n",
       "    <tr>\n",
       "      <th>3</th>\n",
       "      <td>40</td>\n",
       "      <td>admin.</td>\n",
       "      <td>married</td>\n",
       "      <td>basic.6y</td>\n",
       "      <td>no</td>\n",
       "      <td>no</td>\n",
       "      <td>no</td>\n",
       "      <td>telephone</td>\n",
       "      <td>may</td>\n",
       "      <td>mon</td>\n",
       "      <td>...</td>\n",
       "      <td>1</td>\n",
       "      <td>999</td>\n",
       "      <td>0</td>\n",
       "      <td>nonexistent</td>\n",
       "      <td>1.1</td>\n",
       "      <td>93.994</td>\n",
       "      <td>-36.4</td>\n",
       "      <td>4.857</td>\n",
       "      <td>5191.0</td>\n",
       "      <td>no</td>\n",
       "    </tr>\n",
       "    <tr>\n",
       "      <th>4</th>\n",
       "      <td>56</td>\n",
       "      <td>services</td>\n",
       "      <td>married</td>\n",
       "      <td>high.school</td>\n",
       "      <td>no</td>\n",
       "      <td>no</td>\n",
       "      <td>yes</td>\n",
       "      <td>telephone</td>\n",
       "      <td>may</td>\n",
       "      <td>mon</td>\n",
       "      <td>...</td>\n",
       "      <td>1</td>\n",
       "      <td>999</td>\n",
       "      <td>0</td>\n",
       "      <td>nonexistent</td>\n",
       "      <td>1.1</td>\n",
       "      <td>93.994</td>\n",
       "      <td>-36.4</td>\n",
       "      <td>4.857</td>\n",
       "      <td>5191.0</td>\n",
       "      <td>no</td>\n",
       "    </tr>\n",
       "    <tr>\n",
       "      <th>...</th>\n",
       "      <td>...</td>\n",
       "      <td>...</td>\n",
       "      <td>...</td>\n",
       "      <td>...</td>\n",
       "      <td>...</td>\n",
       "      <td>...</td>\n",
       "      <td>...</td>\n",
       "      <td>...</td>\n",
       "      <td>...</td>\n",
       "      <td>...</td>\n",
       "      <td>...</td>\n",
       "      <td>...</td>\n",
       "      <td>...</td>\n",
       "      <td>...</td>\n",
       "      <td>...</td>\n",
       "      <td>...</td>\n",
       "      <td>...</td>\n",
       "      <td>...</td>\n",
       "      <td>...</td>\n",
       "      <td>...</td>\n",
       "      <td>...</td>\n",
       "    </tr>\n",
       "    <tr>\n",
       "      <th>41183</th>\n",
       "      <td>73</td>\n",
       "      <td>retired</td>\n",
       "      <td>married</td>\n",
       "      <td>professional.course</td>\n",
       "      <td>no</td>\n",
       "      <td>yes</td>\n",
       "      <td>no</td>\n",
       "      <td>cellular</td>\n",
       "      <td>nov</td>\n",
       "      <td>fri</td>\n",
       "      <td>...</td>\n",
       "      <td>1</td>\n",
       "      <td>999</td>\n",
       "      <td>0</td>\n",
       "      <td>nonexistent</td>\n",
       "      <td>-1.1</td>\n",
       "      <td>94.767</td>\n",
       "      <td>-50.8</td>\n",
       "      <td>1.028</td>\n",
       "      <td>4963.6</td>\n",
       "      <td>yes</td>\n",
       "    </tr>\n",
       "    <tr>\n",
       "      <th>41184</th>\n",
       "      <td>46</td>\n",
       "      <td>blue-collar</td>\n",
       "      <td>married</td>\n",
       "      <td>professional.course</td>\n",
       "      <td>no</td>\n",
       "      <td>no</td>\n",
       "      <td>no</td>\n",
       "      <td>cellular</td>\n",
       "      <td>nov</td>\n",
       "      <td>fri</td>\n",
       "      <td>...</td>\n",
       "      <td>1</td>\n",
       "      <td>999</td>\n",
       "      <td>0</td>\n",
       "      <td>nonexistent</td>\n",
       "      <td>-1.1</td>\n",
       "      <td>94.767</td>\n",
       "      <td>-50.8</td>\n",
       "      <td>1.028</td>\n",
       "      <td>4963.6</td>\n",
       "      <td>no</td>\n",
       "    </tr>\n",
       "    <tr>\n",
       "      <th>41185</th>\n",
       "      <td>56</td>\n",
       "      <td>retired</td>\n",
       "      <td>married</td>\n",
       "      <td>university.degree</td>\n",
       "      <td>no</td>\n",
       "      <td>yes</td>\n",
       "      <td>no</td>\n",
       "      <td>cellular</td>\n",
       "      <td>nov</td>\n",
       "      <td>fri</td>\n",
       "      <td>...</td>\n",
       "      <td>2</td>\n",
       "      <td>999</td>\n",
       "      <td>0</td>\n",
       "      <td>nonexistent</td>\n",
       "      <td>-1.1</td>\n",
       "      <td>94.767</td>\n",
       "      <td>-50.8</td>\n",
       "      <td>1.028</td>\n",
       "      <td>4963.6</td>\n",
       "      <td>no</td>\n",
       "    </tr>\n",
       "    <tr>\n",
       "      <th>41186</th>\n",
       "      <td>44</td>\n",
       "      <td>technician</td>\n",
       "      <td>married</td>\n",
       "      <td>professional.course</td>\n",
       "      <td>no</td>\n",
       "      <td>no</td>\n",
       "      <td>no</td>\n",
       "      <td>cellular</td>\n",
       "      <td>nov</td>\n",
       "      <td>fri</td>\n",
       "      <td>...</td>\n",
       "      <td>1</td>\n",
       "      <td>999</td>\n",
       "      <td>0</td>\n",
       "      <td>nonexistent</td>\n",
       "      <td>-1.1</td>\n",
       "      <td>94.767</td>\n",
       "      <td>-50.8</td>\n",
       "      <td>1.028</td>\n",
       "      <td>4963.6</td>\n",
       "      <td>yes</td>\n",
       "    </tr>\n",
       "    <tr>\n",
       "      <th>41187</th>\n",
       "      <td>74</td>\n",
       "      <td>retired</td>\n",
       "      <td>married</td>\n",
       "      <td>professional.course</td>\n",
       "      <td>no</td>\n",
       "      <td>yes</td>\n",
       "      <td>no</td>\n",
       "      <td>cellular</td>\n",
       "      <td>nov</td>\n",
       "      <td>fri</td>\n",
       "      <td>...</td>\n",
       "      <td>3</td>\n",
       "      <td>999</td>\n",
       "      <td>1</td>\n",
       "      <td>failure</td>\n",
       "      <td>-1.1</td>\n",
       "      <td>94.767</td>\n",
       "      <td>-50.8</td>\n",
       "      <td>1.028</td>\n",
       "      <td>4963.6</td>\n",
       "      <td>no</td>\n",
       "    </tr>\n",
       "  </tbody>\n",
       "</table>\n",
       "<p>41188 rows × 21 columns</p>\n",
       "</div>"
      ],
      "text/plain": [
       "       age          job  marital            education  default housing loan  \\\n",
       "0       56    housemaid  married             basic.4y       no      no   no   \n",
       "1       57     services  married          high.school  unknown      no   no   \n",
       "2       37     services  married          high.school       no     yes   no   \n",
       "3       40       admin.  married             basic.6y       no      no   no   \n",
       "4       56     services  married          high.school       no      no  yes   \n",
       "...    ...          ...      ...                  ...      ...     ...  ...   \n",
       "41183   73      retired  married  professional.course       no     yes   no   \n",
       "41184   46  blue-collar  married  professional.course       no      no   no   \n",
       "41185   56      retired  married    university.degree       no     yes   no   \n",
       "41186   44   technician  married  professional.course       no      no   no   \n",
       "41187   74      retired  married  professional.course       no     yes   no   \n",
       "\n",
       "         contact month day_of_week  ...  campaign  pdays  previous  \\\n",
       "0      telephone   may         mon  ...         1    999         0   \n",
       "1      telephone   may         mon  ...         1    999         0   \n",
       "2      telephone   may         mon  ...         1    999         0   \n",
       "3      telephone   may         mon  ...         1    999         0   \n",
       "4      telephone   may         mon  ...         1    999         0   \n",
       "...          ...   ...         ...  ...       ...    ...       ...   \n",
       "41183   cellular   nov         fri  ...         1    999         0   \n",
       "41184   cellular   nov         fri  ...         1    999         0   \n",
       "41185   cellular   nov         fri  ...         2    999         0   \n",
       "41186   cellular   nov         fri  ...         1    999         0   \n",
       "41187   cellular   nov         fri  ...         3    999         1   \n",
       "\n",
       "          poutcome emp.var.rate  cons.price.idx  cons.conf.idx  euribor3m  \\\n",
       "0      nonexistent          1.1          93.994          -36.4      4.857   \n",
       "1      nonexistent          1.1          93.994          -36.4      4.857   \n",
       "2      nonexistent          1.1          93.994          -36.4      4.857   \n",
       "3      nonexistent          1.1          93.994          -36.4      4.857   \n",
       "4      nonexistent          1.1          93.994          -36.4      4.857   \n",
       "...            ...          ...             ...            ...        ...   \n",
       "41183  nonexistent         -1.1          94.767          -50.8      1.028   \n",
       "41184  nonexistent         -1.1          94.767          -50.8      1.028   \n",
       "41185  nonexistent         -1.1          94.767          -50.8      1.028   \n",
       "41186  nonexistent         -1.1          94.767          -50.8      1.028   \n",
       "41187      failure         -1.1          94.767          -50.8      1.028   \n",
       "\n",
       "       nr.employed    y  \n",
       "0           5191.0   no  \n",
       "1           5191.0   no  \n",
       "2           5191.0   no  \n",
       "3           5191.0   no  \n",
       "4           5191.0   no  \n",
       "...            ...  ...  \n",
       "41183       4963.6  yes  \n",
       "41184       4963.6   no  \n",
       "41185       4963.6   no  \n",
       "41186       4963.6  yes  \n",
       "41187       4963.6   no  \n",
       "\n",
       "[41188 rows x 21 columns]"
      ]
     },
     "execution_count": 2,
     "metadata": {},
     "output_type": "execute_result"
    }
   ],
   "source": [
    "df = pd.read_csv('bank-additional-full.csv')\n",
    "df"
   ]
  },
  {
   "cell_type": "code",
   "execution_count": 3,
   "id": "96b4dd19",
   "metadata": {},
   "outputs": [
    {
     "data": {
      "text/plain": [
       "(41188, 21)"
      ]
     },
     "execution_count": 3,
     "metadata": {},
     "output_type": "execute_result"
    }
   ],
   "source": [
    "df.shape"
   ]
  },
  {
   "cell_type": "code",
   "execution_count": 4,
   "id": "bda0b122",
   "metadata": {
    "scrolled": false
   },
   "outputs": [
    {
     "name": "stdout",
     "output_type": "stream",
     "text": [
      "<class 'pandas.core.frame.DataFrame'>\n",
      "RangeIndex: 41188 entries, 0 to 41187\n",
      "Data columns (total 21 columns):\n",
      " #   Column          Non-Null Count  Dtype  \n",
      "---  ------          --------------  -----  \n",
      " 0   age             41188 non-null  int64  \n",
      " 1   job             41188 non-null  object \n",
      " 2   marital         41188 non-null  object \n",
      " 3   education       41188 non-null  object \n",
      " 4   default         41188 non-null  object \n",
      " 5   housing         41188 non-null  object \n",
      " 6   loan            41188 non-null  object \n",
      " 7   contact         41188 non-null  object \n",
      " 8   month           41188 non-null  object \n",
      " 9   day_of_week     41188 non-null  object \n",
      " 10  duration        41188 non-null  int64  \n",
      " 11  campaign        41188 non-null  int64  \n",
      " 12  pdays           41188 non-null  int64  \n",
      " 13  previous        41188 non-null  int64  \n",
      " 14  poutcome        41188 non-null  object \n",
      " 15  emp.var.rate    41188 non-null  float64\n",
      " 16  cons.price.idx  41188 non-null  float64\n",
      " 17  cons.conf.idx   41188 non-null  float64\n",
      " 18  euribor3m       41188 non-null  float64\n",
      " 19  nr.employed     41188 non-null  float64\n",
      " 20  y               41188 non-null  object \n",
      "dtypes: float64(5), int64(5), object(11)\n",
      "memory usage: 6.6+ MB\n"
     ]
    }
   ],
   "source": [
    "df.info()"
   ]
  },
  {
   "cell_type": "markdown",
   "id": "10de986c",
   "metadata": {},
   "source": [
    "### 2.2 Data information\n",
    "\n",
    "해당 데이터는 포르투갈의 한 은행기관의 직접적인 마케팅 캠페인(전화통화)과 관련된 것이다. 분류 목표는 고객이 정기예금에 가입할지 여부(변수)를 예측하는 것이다.\n",
    "총 21개의 컬럼이 있으며, 41188개의 데이터로 이루어져 있다.\n",
    "\n",
    "\n",
    "### 입력 변수:\n",
    "#### 은행 고객 데이터:\n",
    "1. 나이 :(numeric)\n",
    "2. 직업 : 직업의 종류 (categorical)\n",
    "3. 결혼 : 결혼 여부 (categorical: \"divorced\",\"married\",\"single\",\"unknown\")\n",
    "4. 교육 (categorical: \"basic.4y\",\"basic.6y\",\"basic.9y\",\"high.school\",\"illiterate\",\"professional.course\",\"university.degree\",\"unknown\")\n",
    "5. default: credit이 기본값에 있습니까? (categorical:: \"no\",\"yes\",\"unknown\")\n",
    "6. 주택: 주택 대출이 있습니까? (categorical: \"no\", \"yes\", \"unknown\")\n",
    "7. 대출: 개인 대출이 있습니까? (categorical: \"no\", \"yes\", \"unknown\")\n",
    "\n",
    "#### 현재 캠페인의 마지막 연락처와 관련이 있습니다:\n",
    "8. 연락처: 연락처 통신 유형(categorical: \"cellular\", \"telephone\")\n",
    "9. 월 : 1 년의 마지막 연락 월(categorical: \"jan\", \"feb\", \"mar\", ..., \"nov\", \"dec\")\n",
    "10. day_of_week: 한 주의 마지막 연락일(categorical: \"mon\", tue\", wed\", \"thu\", \"fri\")\n",
    "11. 듀레이션(duration): 마지막 접촉 듀레이션(in seconds). 중요한 참고: 이 속성은 출력 타겟에 높은 영향을 미친다(예를 들어, 듀레이션 = 0이면 y= \"아니오\"). 그러나, 듀레이션은 콜이 수행되기 전에는 알려져 있지 않다. 또한, 콜 y의 종료 후에는 분명히 알려져 있다. 따라서, 이 입력은 벤치마크 목적으로만 포함되어야 하며, 의도가 현실적인 예측 모델을 갖는 것이라면 폐기되어야 한다.\n",
    "\n",
    "#### 기타 속성:\n",
    "12. 캠페인: 캠페인 기간 동안 수행한 연락처 수 및 이 클라이언트에 대한 연락처 수(numeric를 들어, 마지막 연락처 포함)\n",
    "13. pdays : 이전 캠페인에서 클라이언트에게 마지막으로 연락한 후 경과한 일수(numeric; 999는 클라이언트에게 이전에 연락하지 않았음을 의미함)\n",
    "14. 이전: 이 캠페인 전에 수행한 연락처 수 및 이 클라이언트에 대한 연락처 수(numeric)\n",
    "15. 결과: 지난 마케팅 캠페인의 결과(categorical: \"failure\", \"nonexistent\", \"success\")\n",
    "\n",
    "#### 사회적, 경제적 맥락적 속성\n",
    "16. emp.var.rate : 고용변동률 - 분기별 지표(numeric)\n",
    "17. cons.price.idx : 소비자물가지수 - 월별지표(numeric)\n",
    "18. conf.idx : 소비자신뢰지수 - 월별지표(numeric)\n",
    "19. uribor3m : uribor3개월 요금 - 일일지표(numeric)\n",
    "20. nr. 고용자수 : 분기별 지표(numeric)\n",
    "\n",
    "### 출력 변수(원하는 대상):\n",
    "21. y : 고객이 정기예금에 가입했습니까? (binary: \"yes\", \"no\")"
   ]
  },
  {
   "cell_type": "markdown",
   "id": "10c4fdf1",
   "metadata": {},
   "source": [
    "# 3. Data Visualization & Exploratory data analysis: Data Information"
   ]
  },
  {
   "cell_type": "markdown",
   "id": "62127997",
   "metadata": {},
   "source": [
    "각 컬럼에서의 결측치는 관측되지 않았으나, Data information에 따라 일부의 category 컬럼에서 'unknown'으로 입력된 값들을 발견할 수 있었다.  \n",
    "이 값들을 결측치로 판단하고, 제거하였다."
   ]
  },
  {
   "cell_type": "markdown",
   "id": "ea084bf5",
   "metadata": {},
   "source": [
    "### 3.1 결측치 확인 및 제거"
   ]
  },
  {
   "cell_type": "code",
   "execution_count": 5,
   "id": "8caaaf6a",
   "metadata": {
    "scrolled": false
   },
   "outputs": [
    {
     "data": {
      "text/plain": [
       "age               0\n",
       "job               0\n",
       "marital           0\n",
       "education         0\n",
       "default           0\n",
       "housing           0\n",
       "loan              0\n",
       "contact           0\n",
       "month             0\n",
       "day_of_week       0\n",
       "duration          0\n",
       "campaign          0\n",
       "pdays             0\n",
       "previous          0\n",
       "poutcome          0\n",
       "emp.var.rate      0\n",
       "cons.price.idx    0\n",
       "cons.conf.idx     0\n",
       "euribor3m         0\n",
       "nr.employed       0\n",
       "y                 0\n",
       "dtype: int64"
      ]
     },
     "execution_count": 5,
     "metadata": {},
     "output_type": "execute_result"
    }
   ],
   "source": [
    "df.isna().sum()"
   ]
  },
  {
   "cell_type": "code",
   "execution_count": 6,
   "id": "5c2dd49e",
   "metadata": {},
   "outputs": [],
   "source": [
    "df=df.drop(df[df['job']=='unknown'].index)\n",
    "df=df.drop(df[df['marital']=='unknown'].index)\n",
    "df=df.drop(df[df['education']=='unknown'].index)\n",
    "df=df.drop(df[df['default']=='unknown'].index)\n",
    "df=df.drop(df[df['housing']=='unknown'].index)\n",
    "df=df.drop(df[df['loan']=='unknown'].index)"
   ]
  },
  {
   "cell_type": "markdown",
   "id": "f6552640",
   "metadata": {},
   "source": [
    "### 3.2 특정 컬럼 확인"
   ]
  },
  {
   "cell_type": "markdown",
   "id": "9a17c093",
   "metadata": {},
   "source": [
    "#### 3.2.1 categorical variable"
   ]
  },
  {
   "cell_type": "markdown",
   "id": "e2c4327f",
   "metadata": {},
   "source": [
    "category 변수를 인코딩하기 위해, category 컬럼을 위주로 unique values를 확인해보았다."
   ]
  },
  {
   "cell_type": "code",
   "execution_count": 7,
   "id": "eb0c846c",
   "metadata": {},
   "outputs": [
    {
     "data": {
      "text/plain": [
       "Index(['age', 'job', 'marital', 'education', 'default', 'housing', 'loan',\n",
       "       'contact', 'month', 'day_of_week', 'duration', 'campaign', 'pdays',\n",
       "       'previous', 'poutcome', 'emp.var.rate', 'cons.price.idx',\n",
       "       'cons.conf.idx', 'euribor3m', 'nr.employed', 'y'],\n",
       "      dtype='object')"
      ]
     },
     "execution_count": 7,
     "metadata": {},
     "output_type": "execute_result"
    }
   ],
   "source": [
    "df.columns"
   ]
  },
  {
   "cell_type": "code",
   "execution_count": 8,
   "id": "0de2abc6",
   "metadata": {},
   "outputs": [],
   "source": [
    "category_columns=['job', 'marital', 'education', 'default', 'housing', 'loan', 'contact', 'month', 'day_of_week','poutcome', 'y']"
   ]
  },
  {
   "cell_type": "code",
   "execution_count": 9,
   "id": "4d173ebe",
   "metadata": {
    "scrolled": false
   },
   "outputs": [
    {
     "name": "stdout",
     "output_type": "stream",
     "text": [
      "job : ['housemaid' 'services' 'admin.' 'technician' 'blue-collar' 'unemployed'\n",
      " 'retired' 'entrepreneur' 'management' 'student' 'self-employed']\n",
      "marital : ['married' 'single' 'divorced']\n",
      "education : ['basic.4y' 'high.school' 'basic.6y' 'professional.course' 'basic.9y'\n",
      " 'university.degree' 'illiterate']\n",
      "default : ['no' 'yes']\n",
      "housing : ['no' 'yes']\n",
      "loan : ['no' 'yes']\n",
      "contact : ['telephone' 'cellular']\n",
      "month : ['may' 'jun' 'jul' 'aug' 'oct' 'nov' 'dec' 'mar' 'apr' 'sep']\n",
      "day_of_week : ['mon' 'tue' 'wed' 'thu' 'fri']\n",
      "poutcome : ['nonexistent' 'failure' 'success']\n",
      "y : ['no' 'yes']\n"
     ]
    }
   ],
   "source": [
    "for col in category_columns:\n",
    "    print(col, ':', df[col].unique())"
   ]
  },
  {
   "cell_type": "markdown",
   "id": "219f2ca0",
   "metadata": {},
   "source": [
    "education 컬럼을 제외한 category 컬럼들은 순서 척도가 아닌 것으로 확인된다. 그러나 education 컬럼은 일종의 순서가 존재하는 것으로 보여,\n",
    " \"basic.4y\",\"basic.6y\",\"basic.9y\",\"high.school\",\"illiterate\",\"professional.course\",\"university.degree\"의 순서로 따로 인코딩하는 것이 적절하다고 판단된다."
   ]
  },
  {
   "cell_type": "markdown",
   "id": "ab567da4",
   "metadata": {},
   "source": [
    "#### 3.2.2 numerical variable"
   ]
  },
  {
   "cell_type": "markdown",
   "id": "1afed21c",
   "metadata": {},
   "source": [
    "pdays 컬럼은 이전 캠페인에서 클라이언트에게 마지막으로 연락한 후 경과한 일수로, 연락하지 않은 첫 클라이언트의 일수를 999 나타낸 것이다.\n",
    "연락하지 않은 클라이언트(=0)와 과거에 연락한 클라이언트(=1)로 구분하기 위해서 새로운 컬럼 call를 생성하였다.  \n",
    "그리고 pdays 컬럼을 삭제하였다."
   ]
  },
  {
   "cell_type": "code",
   "execution_count": 10,
   "id": "066dc444",
   "metadata": {},
   "outputs": [
    {
     "data": {
      "text/plain": [
       "array([999,   6,   4,   5,   1,   0,   3,  10,   7,   9,  11,   8,   2,\n",
       "        12,  13,  14,  15,  16,  21,  17,  18,  22,  25,  26,  19,  27],\n",
       "      dtype=int64)"
      ]
     },
     "execution_count": 10,
     "metadata": {},
     "output_type": "execute_result"
    }
   ],
   "source": [
    "df['pdays'].unique()"
   ]
  },
  {
   "cell_type": "code",
   "execution_count": 11,
   "id": "11797677",
   "metadata": {},
   "outputs": [],
   "source": [
    "df['call']=1\n",
    "df.loc[df['pdays']==999, 'call']=0\n",
    "df=df.drop(columns='pdays')"
   ]
  },
  {
   "cell_type": "markdown",
   "id": "6c82e838",
   "metadata": {},
   "source": [
    "### 3.3 데이터 인코딩"
   ]
  },
  {
   "cell_type": "markdown",
   "id": "6fff810d",
   "metadata": {},
   "source": [
    "3.2의 결과에 따라 education 컬럼은 따로 mapping하여 인코딩하고, 나머지 category 컬럼들은 LabelEncoder를 이용하여 인코딩하였다."
   ]
  },
  {
   "cell_type": "code",
   "execution_count": 12,
   "id": "27d4cb2c",
   "metadata": {},
   "outputs": [],
   "source": [
    "education_encode = {'basic.4y':0, 'basic.6y':1, 'basic.9y':2,  'high.school': 3, 'illiterate':4 , 'professional.course':5,\n",
    "                  'university.degree': 6 }\n",
    "df['education'] = df['education'].map(education_encode)"
   ]
  },
  {
   "cell_type": "code",
   "execution_count": 13,
   "id": "28fe864d",
   "metadata": {},
   "outputs": [],
   "source": [
    "category_columns=['job', 'marital', 'default', 'housing', 'loan', 'contact', 'month', 'day_of_week','poutcome', 'y']\n",
    "\n",
    "from sklearn.preprocessing import LabelEncoder\n",
    "for col in category_columns:\n",
    "    le=LabelEncoder()\n",
    "    df[col] = le.fit_transform(df[col])"
   ]
  },
  {
   "cell_type": "code",
   "execution_count": 14,
   "id": "2db472f0",
   "metadata": {},
   "outputs": [
    {
     "data": {
      "text/html": [
       "<div>\n",
       "<style scoped>\n",
       "    .dataframe tbody tr th:only-of-type {\n",
       "        vertical-align: middle;\n",
       "    }\n",
       "\n",
       "    .dataframe tbody tr th {\n",
       "        vertical-align: top;\n",
       "    }\n",
       "\n",
       "    .dataframe thead th {\n",
       "        text-align: right;\n",
       "    }\n",
       "</style>\n",
       "<table border=\"1\" class=\"dataframe\">\n",
       "  <thead>\n",
       "    <tr style=\"text-align: right;\">\n",
       "      <th></th>\n",
       "      <th>age</th>\n",
       "      <th>job</th>\n",
       "      <th>marital</th>\n",
       "      <th>education</th>\n",
       "      <th>default</th>\n",
       "      <th>housing</th>\n",
       "      <th>loan</th>\n",
       "      <th>contact</th>\n",
       "      <th>month</th>\n",
       "      <th>day_of_week</th>\n",
       "      <th>...</th>\n",
       "      <th>campaign</th>\n",
       "      <th>previous</th>\n",
       "      <th>poutcome</th>\n",
       "      <th>emp.var.rate</th>\n",
       "      <th>cons.price.idx</th>\n",
       "      <th>cons.conf.idx</th>\n",
       "      <th>euribor3m</th>\n",
       "      <th>nr.employed</th>\n",
       "      <th>y</th>\n",
       "      <th>call</th>\n",
       "    </tr>\n",
       "  </thead>\n",
       "  <tbody>\n",
       "    <tr>\n",
       "      <th>0</th>\n",
       "      <td>56</td>\n",
       "      <td>3</td>\n",
       "      <td>1</td>\n",
       "      <td>0</td>\n",
       "      <td>0</td>\n",
       "      <td>0</td>\n",
       "      <td>0</td>\n",
       "      <td>1</td>\n",
       "      <td>6</td>\n",
       "      <td>1</td>\n",
       "      <td>...</td>\n",
       "      <td>1</td>\n",
       "      <td>0</td>\n",
       "      <td>1</td>\n",
       "      <td>1.1</td>\n",
       "      <td>93.994</td>\n",
       "      <td>-36.4</td>\n",
       "      <td>4.857</td>\n",
       "      <td>5191.0</td>\n",
       "      <td>0</td>\n",
       "      <td>0</td>\n",
       "    </tr>\n",
       "    <tr>\n",
       "      <th>2</th>\n",
       "      <td>37</td>\n",
       "      <td>7</td>\n",
       "      <td>1</td>\n",
       "      <td>3</td>\n",
       "      <td>0</td>\n",
       "      <td>1</td>\n",
       "      <td>0</td>\n",
       "      <td>1</td>\n",
       "      <td>6</td>\n",
       "      <td>1</td>\n",
       "      <td>...</td>\n",
       "      <td>1</td>\n",
       "      <td>0</td>\n",
       "      <td>1</td>\n",
       "      <td>1.1</td>\n",
       "      <td>93.994</td>\n",
       "      <td>-36.4</td>\n",
       "      <td>4.857</td>\n",
       "      <td>5191.0</td>\n",
       "      <td>0</td>\n",
       "      <td>0</td>\n",
       "    </tr>\n",
       "    <tr>\n",
       "      <th>3</th>\n",
       "      <td>40</td>\n",
       "      <td>0</td>\n",
       "      <td>1</td>\n",
       "      <td>1</td>\n",
       "      <td>0</td>\n",
       "      <td>0</td>\n",
       "      <td>0</td>\n",
       "      <td>1</td>\n",
       "      <td>6</td>\n",
       "      <td>1</td>\n",
       "      <td>...</td>\n",
       "      <td>1</td>\n",
       "      <td>0</td>\n",
       "      <td>1</td>\n",
       "      <td>1.1</td>\n",
       "      <td>93.994</td>\n",
       "      <td>-36.4</td>\n",
       "      <td>4.857</td>\n",
       "      <td>5191.0</td>\n",
       "      <td>0</td>\n",
       "      <td>0</td>\n",
       "    </tr>\n",
       "    <tr>\n",
       "      <th>4</th>\n",
       "      <td>56</td>\n",
       "      <td>7</td>\n",
       "      <td>1</td>\n",
       "      <td>3</td>\n",
       "      <td>0</td>\n",
       "      <td>0</td>\n",
       "      <td>1</td>\n",
       "      <td>1</td>\n",
       "      <td>6</td>\n",
       "      <td>1</td>\n",
       "      <td>...</td>\n",
       "      <td>1</td>\n",
       "      <td>0</td>\n",
       "      <td>1</td>\n",
       "      <td>1.1</td>\n",
       "      <td>93.994</td>\n",
       "      <td>-36.4</td>\n",
       "      <td>4.857</td>\n",
       "      <td>5191.0</td>\n",
       "      <td>0</td>\n",
       "      <td>0</td>\n",
       "    </tr>\n",
       "    <tr>\n",
       "      <th>6</th>\n",
       "      <td>59</td>\n",
       "      <td>0</td>\n",
       "      <td>1</td>\n",
       "      <td>5</td>\n",
       "      <td>0</td>\n",
       "      <td>0</td>\n",
       "      <td>0</td>\n",
       "      <td>1</td>\n",
       "      <td>6</td>\n",
       "      <td>1</td>\n",
       "      <td>...</td>\n",
       "      <td>1</td>\n",
       "      <td>0</td>\n",
       "      <td>1</td>\n",
       "      <td>1.1</td>\n",
       "      <td>93.994</td>\n",
       "      <td>-36.4</td>\n",
       "      <td>4.857</td>\n",
       "      <td>5191.0</td>\n",
       "      <td>0</td>\n",
       "      <td>0</td>\n",
       "    </tr>\n",
       "    <tr>\n",
       "      <th>...</th>\n",
       "      <td>...</td>\n",
       "      <td>...</td>\n",
       "      <td>...</td>\n",
       "      <td>...</td>\n",
       "      <td>...</td>\n",
       "      <td>...</td>\n",
       "      <td>...</td>\n",
       "      <td>...</td>\n",
       "      <td>...</td>\n",
       "      <td>...</td>\n",
       "      <td>...</td>\n",
       "      <td>...</td>\n",
       "      <td>...</td>\n",
       "      <td>...</td>\n",
       "      <td>...</td>\n",
       "      <td>...</td>\n",
       "      <td>...</td>\n",
       "      <td>...</td>\n",
       "      <td>...</td>\n",
       "      <td>...</td>\n",
       "      <td>...</td>\n",
       "    </tr>\n",
       "    <tr>\n",
       "      <th>41183</th>\n",
       "      <td>73</td>\n",
       "      <td>5</td>\n",
       "      <td>1</td>\n",
       "      <td>5</td>\n",
       "      <td>0</td>\n",
       "      <td>1</td>\n",
       "      <td>0</td>\n",
       "      <td>0</td>\n",
       "      <td>7</td>\n",
       "      <td>0</td>\n",
       "      <td>...</td>\n",
       "      <td>1</td>\n",
       "      <td>0</td>\n",
       "      <td>1</td>\n",
       "      <td>-1.1</td>\n",
       "      <td>94.767</td>\n",
       "      <td>-50.8</td>\n",
       "      <td>1.028</td>\n",
       "      <td>4963.6</td>\n",
       "      <td>1</td>\n",
       "      <td>0</td>\n",
       "    </tr>\n",
       "    <tr>\n",
       "      <th>41184</th>\n",
       "      <td>46</td>\n",
       "      <td>1</td>\n",
       "      <td>1</td>\n",
       "      <td>5</td>\n",
       "      <td>0</td>\n",
       "      <td>0</td>\n",
       "      <td>0</td>\n",
       "      <td>0</td>\n",
       "      <td>7</td>\n",
       "      <td>0</td>\n",
       "      <td>...</td>\n",
       "      <td>1</td>\n",
       "      <td>0</td>\n",
       "      <td>1</td>\n",
       "      <td>-1.1</td>\n",
       "      <td>94.767</td>\n",
       "      <td>-50.8</td>\n",
       "      <td>1.028</td>\n",
       "      <td>4963.6</td>\n",
       "      <td>0</td>\n",
       "      <td>0</td>\n",
       "    </tr>\n",
       "    <tr>\n",
       "      <th>41185</th>\n",
       "      <td>56</td>\n",
       "      <td>5</td>\n",
       "      <td>1</td>\n",
       "      <td>6</td>\n",
       "      <td>0</td>\n",
       "      <td>1</td>\n",
       "      <td>0</td>\n",
       "      <td>0</td>\n",
       "      <td>7</td>\n",
       "      <td>0</td>\n",
       "      <td>...</td>\n",
       "      <td>2</td>\n",
       "      <td>0</td>\n",
       "      <td>1</td>\n",
       "      <td>-1.1</td>\n",
       "      <td>94.767</td>\n",
       "      <td>-50.8</td>\n",
       "      <td>1.028</td>\n",
       "      <td>4963.6</td>\n",
       "      <td>0</td>\n",
       "      <td>0</td>\n",
       "    </tr>\n",
       "    <tr>\n",
       "      <th>41186</th>\n",
       "      <td>44</td>\n",
       "      <td>9</td>\n",
       "      <td>1</td>\n",
       "      <td>5</td>\n",
       "      <td>0</td>\n",
       "      <td>0</td>\n",
       "      <td>0</td>\n",
       "      <td>0</td>\n",
       "      <td>7</td>\n",
       "      <td>0</td>\n",
       "      <td>...</td>\n",
       "      <td>1</td>\n",
       "      <td>0</td>\n",
       "      <td>1</td>\n",
       "      <td>-1.1</td>\n",
       "      <td>94.767</td>\n",
       "      <td>-50.8</td>\n",
       "      <td>1.028</td>\n",
       "      <td>4963.6</td>\n",
       "      <td>1</td>\n",
       "      <td>0</td>\n",
       "    </tr>\n",
       "    <tr>\n",
       "      <th>41187</th>\n",
       "      <td>74</td>\n",
       "      <td>5</td>\n",
       "      <td>1</td>\n",
       "      <td>5</td>\n",
       "      <td>0</td>\n",
       "      <td>1</td>\n",
       "      <td>0</td>\n",
       "      <td>0</td>\n",
       "      <td>7</td>\n",
       "      <td>0</td>\n",
       "      <td>...</td>\n",
       "      <td>3</td>\n",
       "      <td>1</td>\n",
       "      <td>0</td>\n",
       "      <td>-1.1</td>\n",
       "      <td>94.767</td>\n",
       "      <td>-50.8</td>\n",
       "      <td>1.028</td>\n",
       "      <td>4963.6</td>\n",
       "      <td>0</td>\n",
       "      <td>0</td>\n",
       "    </tr>\n",
       "  </tbody>\n",
       "</table>\n",
       "<p>30488 rows × 21 columns</p>\n",
       "</div>"
      ],
      "text/plain": [
       "       age  job  marital  education  default  housing  loan  contact  month  \\\n",
       "0       56    3        1          0        0        0     0        1      6   \n",
       "2       37    7        1          3        0        1     0        1      6   \n",
       "3       40    0        1          1        0        0     0        1      6   \n",
       "4       56    7        1          3        0        0     1        1      6   \n",
       "6       59    0        1          5        0        0     0        1      6   \n",
       "...    ...  ...      ...        ...      ...      ...   ...      ...    ...   \n",
       "41183   73    5        1          5        0        1     0        0      7   \n",
       "41184   46    1        1          5        0        0     0        0      7   \n",
       "41185   56    5        1          6        0        1     0        0      7   \n",
       "41186   44    9        1          5        0        0     0        0      7   \n",
       "41187   74    5        1          5        0        1     0        0      7   \n",
       "\n",
       "       day_of_week  ...  campaign  previous  poutcome  emp.var.rate  \\\n",
       "0                1  ...         1         0         1           1.1   \n",
       "2                1  ...         1         0         1           1.1   \n",
       "3                1  ...         1         0         1           1.1   \n",
       "4                1  ...         1         0         1           1.1   \n",
       "6                1  ...         1         0         1           1.1   \n",
       "...            ...  ...       ...       ...       ...           ...   \n",
       "41183            0  ...         1         0         1          -1.1   \n",
       "41184            0  ...         1         0         1          -1.1   \n",
       "41185            0  ...         2         0         1          -1.1   \n",
       "41186            0  ...         1         0         1          -1.1   \n",
       "41187            0  ...         3         1         0          -1.1   \n",
       "\n",
       "       cons.price.idx  cons.conf.idx  euribor3m  nr.employed  y  call  \n",
       "0              93.994          -36.4      4.857       5191.0  0     0  \n",
       "2              93.994          -36.4      4.857       5191.0  0     0  \n",
       "3              93.994          -36.4      4.857       5191.0  0     0  \n",
       "4              93.994          -36.4      4.857       5191.0  0     0  \n",
       "6              93.994          -36.4      4.857       5191.0  0     0  \n",
       "...               ...            ...        ...          ... ..   ...  \n",
       "41183          94.767          -50.8      1.028       4963.6  1     0  \n",
       "41184          94.767          -50.8      1.028       4963.6  0     0  \n",
       "41185          94.767          -50.8      1.028       4963.6  0     0  \n",
       "41186          94.767          -50.8      1.028       4963.6  1     0  \n",
       "41187          94.767          -50.8      1.028       4963.6  0     0  \n",
       "\n",
       "[30488 rows x 21 columns]"
      ]
     },
     "execution_count": 14,
     "metadata": {},
     "output_type": "execute_result"
    }
   ],
   "source": [
    "df"
   ]
  },
  {
   "cell_type": "markdown",
   "id": "e6183082",
   "metadata": {},
   "source": [
    "### 3.3 이상치 확인"
   ]
  },
  {
   "cell_type": "markdown",
   "id": "392042d1",
   "metadata": {},
   "source": [
    "다음은 수치형 자료형인 컬럼들의 boxplot이다.  \n",
    "이상치가 duration의 컬럼에서 발견되었다. 그러나 duration의 이상치들은 연속적이고, 빈도 또한 충분하다고 고려하여 제거하지 않는 것이 적절하다고 판단하였다."
   ]
  },
  {
   "cell_type": "code",
   "execution_count": 15,
   "id": "db0d4974",
   "metadata": {
    "scrolled": false
   },
   "outputs": [
    {
     "data": {
      "image/png": "[encoded data removed]",
      "text/plain": [
       "<Figure size 432x288 with 1 Axes>"
      ]
     },
     "metadata": {
      "needs_background": "light"
     },
     "output_type": "display_data"
    }
   ],
   "source": [
    "# Matplotlib을 사용하여 여러 개의 박스플롯 그리기\n",
    "df.boxplot(column=['duration', 'campaign','previous',\n",
    "                   'emp.var.rate', 'cons.price.idx', 'cons.conf.idx', 'euribor3m', 'nr.employed'])\n",
    "plt.title('columns outlier')\n",
    "plt.xlabel('Attributes')\n",
    "plt.ylabel('Values')\n",
    "plt.show()"
   ]
  },
  {
   "cell_type": "markdown",
   "id": "660d06c3",
   "metadata": {},
   "source": [
    "### 3.4 컬럼 간 상관계수 확인 - df"
   ]
  },
  {
   "cell_type": "markdown",
   "id": "862694de",
   "metadata": {},
   "source": [
    "heatmap을 이용한 컬럼 간의 상관계수를 확인해보았다.    \n",
    "target 'y'와의 변수(컬럼) 간의 상관계수들이 대체로 낮게 나타났으며, 'duration', 'call', 'previous' ,'emp.var.rate', 'euribor3m',\n",
    "'nr.employed' 컬럼 만이 0.3이상의 상관계수를 갖는 것으로 확인되었다.  \n",
    "따라서 Accuracy를 높이기 위해, 0.3이하의 상관계수를 갖는 컬럼들을 제거하는 것을 하나의 방법으로 고려할 수 있을 것으로 판단된다."
   ]
  },
  {
   "cell_type": "code",
   "execution_count": 16,
   "id": "0ee1be38",
   "metadata": {
    "scrolled": false
   },
   "outputs": [
    {
     "data": {
      "text/plain": [
       "Text(0.5, 1.0, 'correlation heatmap - df')"
      ]
     },
     "execution_count": 16,
     "metadata": {},
     "output_type": "execute_result"
    },
    {
     "data": {
      "image/png": "[encoded data removed]",
      "text/plain": [
       "<Figure size 1152x360 with 2 Axes>"
      ]
     },
     "metadata": {
      "needs_background": "light"
     },
     "output_type": "display_data"
    }
   ],
   "source": [
    "dfcorr = df.corr()\n",
    "plt.figure(figsize=(16,5))\n",
    "sns.heatmap(data = dfcorr, annot=True)\n",
    "plt.title('correlation heatmap - df')"
   ]
  },
  {
   "cell_type": "markdown",
   "id": "2751734b",
   "metadata": {},
   "source": [
    "### 3.5 Data preprocessing(결론)"
   ]
  },
  {
   "cell_type": "markdown",
   "id": "73541707",
   "metadata": {},
   "source": [
    "#### 1. 모든 컬럼 사용 -> 7\n",
    "#### 2. 불필요한 컬럼 제거 -> 7.1\n",
    "= 'duration', 'call' ,'emp.var.rate', 'euribor3m','nr.employed'을 제외한 나머지 컬럼 제거(target과의 낮은 상관계수를 갖는 컬럼제거)"
   ]
  },
  {
   "cell_type": "markdown",
   "id": "8992c28e",
   "metadata": {},
   "source": [
    "# 4. Split data into separate training and test set"
   ]
  },
  {
   "cell_type": "markdown",
   "id": "2c5df317",
   "metadata": {},
   "source": [
    "training, test data의 비율은 8:2로 나누었다."
   ]
  },
  {
   "cell_type": "code",
   "execution_count": 17,
   "id": "f3190fc1",
   "metadata": {},
   "outputs": [],
   "source": [
    "training_points = df.drop(columns='y')\n",
    "training_labels = df['y']\n",
    "\n",
    "X_train, X_test, y_train, y_test = train_test_split(training_points,\n",
    "                                                    training_labels,\n",
    "                                                    test_size=0.2,\n",
    "                                                    random_state=4)"
   ]
  },
  {
   "cell_type": "markdown",
   "id": "f4561c55",
   "metadata": {},
   "source": [
    "# 5. Training model(Fit K Neighbours Classifier)"
   ]
  },
  {
   "cell_type": "markdown",
   "id": "a57ce057",
   "metadata": {},
   "source": [
    "다음은 각각 Naive bayes(Gaussian NB) Classifier, SVC, K Neighbors Classifier 모델을 학습시키고, test data(X_test)에 대해 Target을 예측하는 과정이다.  "
   ]
  },
  {
   "cell_type": "markdown",
   "id": "f8e448b6",
   "metadata": {},
   "source": [
    "### 5.1 Naive bayes(Gaussian NB) Classifier"
   ]
  },
  {
   "cell_type": "markdown",
   "id": "ec90a1ab",
   "metadata": {},
   "source": [
    "수치형 자료의 분류를 위해, NB Classifier 중 Gaussian NB Classifier를 사용하였으며, NB_guesses는 X_test에 대한 target의 예측 값을 나타낸다."
   ]
  },
  {
   "cell_type": "code",
   "execution_count": 18,
   "id": "ea3a1c61",
   "metadata": {},
   "outputs": [
    {
     "name": "stdout",
     "output_type": "stream",
     "text": [
      "[0 1 1 ... 0 0 0]\n"
     ]
    }
   ],
   "source": [
    "classifier = GaussianNB()\n",
    "classifier.fit(X_train, y_train)\n",
    "NB_guesses = classifier.predict(X_test)\n",
    "print(NB_guesses)"
   ]
  },
  {
   "cell_type": "markdown",
   "id": "38c57b0e",
   "metadata": {},
   "source": [
    "### 5.2 SVC"
   ]
  },
  {
   "cell_type": "markdown",
   "id": "084a86e3",
   "metadata": {},
   "source": [
    "데이터가 속한 군집을 분류하기 위해, 사용할 커널(kernel)을 linear로 설정하였으며, SVC_guesses는 X_test에 대한 target의 예측 값을 나타낸다."
   ]
  },
  {
   "cell_type": "code",
   "execution_count": 19,
   "id": "72343b53",
   "metadata": {},
   "outputs": [
    {
     "name": "stdout",
     "output_type": "stream",
     "text": [
      "[0 0 0 ... 0 0 0]\n"
     ]
    }
   ],
   "source": [
    "classifier = SVC(kernel = 'linear')\n",
    "classifier.fit(X_train, y_train)\n",
    "SVC_guesses = classifier.predict(X_test)\n",
    "print(SVC_guesses)"
   ]
  },
  {
   "cell_type": "markdown",
   "id": "2a5dda5f",
   "metadata": {},
   "source": [
    "### 5.3 Knn Classifier"
   ]
  },
  {
   "cell_type": "markdown",
   "id": "a490f082",
   "metadata": {},
   "source": [
    "데이터가 속한 군집을 분류하기 위해 고려할 데이터(n_neighbors)를 1개로 설정하였으며, Knn_guesses는 X_test에 대한 target의 예측 값을 나타낸다."
   ]
  },
  {
   "cell_type": "code",
   "execution_count": 20,
   "id": "ed892915",
   "metadata": {
    "scrolled": true
   },
   "outputs": [
    {
     "name": "stdout",
     "output_type": "stream",
     "text": [
      "[0 0 0 ... 0 0 0]\n"
     ]
    }
   ],
   "source": [
    "classifier = KNeighborsClassifier(n_neighbors = 1)\n",
    "classifier.fit(X_train, y_train)\n",
    "Knn_guesses = classifier.predict(X_test)\n",
    "print(Knn_guesses)"
   ]
  },
  {
   "cell_type": "markdown",
   "id": "36e06a93",
   "metadata": {},
   "source": [
    "# 6. Checking out Accuracy"
   ]
  },
  {
   "cell_type": "markdown",
   "id": "209df3dd",
   "metadata": {},
   "source": [
    "모델의 학습 성능을 판단하기 위한 평가 지표는 Acurracy를 사용하였다.  \n",
    "Accuracy는 모델이 test 데이터의 실제 target과 예측 target 간의 정답의 수를 통해 계산되며, 올바른 예측 target / 전체 target 수로 표현된다. "
   ]
  },
  {
   "cell_type": "markdown",
   "id": "0a85cd5a",
   "metadata": {},
   "source": [
    "### 6.1 NB classifier's Accuracy(Gaussian NB classifier's Accuracy)"
   ]
  },
  {
   "cell_type": "markdown",
   "id": "2608ce74",
   "metadata": {},
   "source": [
    "Gaussian NB classifier의 경우, 전체 예측된 타겟 6098개 중 4574개, 471개가 '0', '1'를 정확하게 예측하였음을 알 수 있다.  \n",
    "따라서 Acurracy는 약 0.83으로 나타났다."
   ]
  },
  {
   "cell_type": "code",
   "execution_count": 21,
   "id": "7c1fa673",
   "metadata": {},
   "outputs": [
    {
     "name": "stdout",
     "output_type": "stream",
     "text": [
      "[[4574  773]\n",
      " [ 280  471]]\n",
      "Acurracy :  0.8273204329288292\n"
     ]
    }
   ],
   "source": [
    "print(confusion_matrix(y_test, NB_guesses))\n",
    "print('Acurracy : ', metrics.accuracy_score(y_test, NB_guesses))"
   ]
  },
  {
   "cell_type": "markdown",
   "id": "d592edc3",
   "metadata": {},
   "source": [
    "### 6.2 SVC's Accuracy"
   ]
  },
  {
   "cell_type": "markdown",
   "id": "b4c05720",
   "metadata": {},
   "source": [
    "SVC의 경우, 전체 예측된 타겟 6098개 중 5185개, 249개가 '0', '1'를 정확하게 예측하였음을 알 수 있다.  \n",
    "따라서 Acurracy는 약 0.89로 나타났다."
   ]
  },
  {
   "cell_type": "code",
   "execution_count": 22,
   "id": "21f2ec82",
   "metadata": {},
   "outputs": [
    {
     "name": "stdout",
     "output_type": "stream",
     "text": [
      "[[5185  162]\n",
      " [ 502  249]]\n",
      "Acurracy :  0.8911118399475237\n"
     ]
    }
   ],
   "source": [
    "print(confusion_matrix(y_test, SVC_guesses))\n",
    "print('Acurracy : ', metrics.accuracy_score(y_test, SVC_guesses))"
   ]
  },
  {
   "cell_type": "markdown",
   "id": "f69a3ee5",
   "metadata": {},
   "source": [
    "### 6.3 Knn classifier's Accuracy"
   ]
  },
  {
   "cell_type": "markdown",
   "id": "10cc423b",
   "metadata": {},
   "source": [
    "knn classifier의 경우, 전체 예측된 타겟 6098개 중 4977개, 350개가 '0', '1'를 정확하게 예측하였음을 알 수 있다.  \n",
    "따라서 Acurracy는 약 0.87로 나타났다."
   ]
  },
  {
   "cell_type": "code",
   "execution_count": 23,
   "id": "7a56373e",
   "metadata": {},
   "outputs": [
    {
     "name": "stdout",
     "output_type": "stream",
     "text": [
      "[[4977  370]\n",
      " [ 401  350]]\n",
      "Acurracy :  0.8735651033125615\n"
     ]
    }
   ],
   "source": [
    "print(confusion_matrix(y_test, Knn_guesses))\n",
    "print('Acurracy : ', metrics.accuracy_score(y_test, Knn_guesses))"
   ]
  },
  {
   "cell_type": "markdown",
   "id": "8d3a0987",
   "metadata": {},
   "source": [
    "# 7. KNN Improving Accuracy: Tuning k parameter "
   ]
  },
  {
   "cell_type": "markdown",
   "id": "6209a593",
   "metadata": {},
   "source": [
    "다음은 데이터가 속한 군집을 분류하기 위해 고려할 데이터(n_neighbors) 수에 따른 Acurracy의 변화로, 1 ~ 50의 범위를 고려한 결과이다.    Acurracy가 약 0.901로 가장 높게 나타났음을 알 수 있다."
   ]
  },
  {
   "cell_type": "code",
   "execution_count": 24,
   "id": "353c5c40",
   "metadata": {},
   "outputs": [
    {
     "name": "stdout",
     "output_type": "stream",
     "text": [
      "[0.874, 0.888, 0.888, 0.893, 0.891, 0.893, 0.895, 0.895, 0.894, 0.897, 0.897, 0.896, 0.898, 0.897, 0.9, 0.898, 0.9, 0.898, 0.9, 0.899, 0.9, 0.898, 0.9, 0.898, 0.901, 0.899, 0.9, 0.899, 0.899, 0.899, 0.9, 0.9, 0.901, 0.901, 0.901, 0.901, 0.9, 0.901, 0.9, 0.901, 0.901, 0.901, 0.901, 0.9, 0.9, 0.9, 0.899, 0.9, 0.9]\n"
     ]
    },
    {
     "data": {
      "image/png": "[encoded data removed]",
      "text/plain": [
       "<Figure size 432x288 with 1 Axes>"
      ]
     },
     "metadata": {
      "needs_background": "light"
     },
     "output_type": "display_data"
    }
   ],
   "source": [
    "k_range = range(1, 50)\n",
    "\n",
    "accuracy_scores = []\n",
    "\n",
    "for k in k_range:\n",
    "    classifier = KNeighborsClassifier(n_neighbors = k)\n",
    "    classifier.fit(X_train, y_train)\n",
    "    guesses = classifier.predict(X_test)\n",
    "    accuracy_scores.append(metrics.accuracy_score(y_test, guesses).round(3))\n",
    "print(accuracy_scores)\n",
    "\n",
    "plt.plot(k_range, accuracy_scores)\n",
    "plt.title('Accuracy according to the number of k')\n",
    "plt.xlabel('Value of K for KNN')\n",
    "plt.ylabel('Testing Accuracy')\n",
    "plt.show()"
   ]
  },
  {
   "cell_type": "markdown",
   "id": "9b2390ac",
   "metadata": {},
   "source": [
    "# 7.1 Improving Accuracy : 불필요한 컬럼제거"
   ]
  },
  {
   "cell_type": "markdown",
   "id": "e72348df",
   "metadata": {},
   "source": [
    "3.6의 상관계수 heatmap에서 target과 'duration', 'call' ,'emp.var.rate', 'euribor3m','nr.employed 컬럼이 0.3 이상의 상관계수(0.39, -0.31, -0.32, -0.36, 0.33)를 갖는 것을 알 수 있었다. 따라서 모델의 성능 향상을 위해 'duration', 'call' ,'emp.var.rate', 'euribor3m','nr.employed 컬럼만을 training data에 사용하였다."
   ]
  },
  {
   "cell_type": "markdown",
   "id": "7b1fcc57",
   "metadata": {},
   "source": [
    "### 7.1.1 Split data into separate training and test set"
   ]
  },
  {
   "cell_type": "code",
   "execution_count": 25,
   "id": "c80261df",
   "metadata": {},
   "outputs": [],
   "source": [
    "training_points = df[[ 'duration', 'call','emp.var.rate', 'euribor3m','nr.employed']]\n",
    "training_labels = df['y']\n",
    "\n",
    "X_train, X_test, y_train, y_test = train_test_split(training_points,\n",
    "                                                    training_labels,\n",
    "                                                    test_size=0.2,\n",
    "                                                    random_state=4)"
   ]
  },
  {
   "cell_type": "markdown",
   "id": "3089be1b",
   "metadata": {},
   "source": [
    "### 7.1.2 Training model(Fit K Neighbours Classifier)"
   ]
  },
  {
   "cell_type": "markdown",
   "id": "354d1378",
   "metadata": {},
   "source": [
    "#### - NB classifier's Accuracy(Gaussian NB classifier's Accuracy)"
   ]
  },
  {
   "cell_type": "markdown",
   "id": "78709475",
   "metadata": {},
   "source": [
    "0.3 이상의 상관계수를 갖는 컬럼을 이용하였을 때, Gaussian NB classifier의 정확도가 약 0.88으로 확연히 높아졌음을 확인할 수 있다."
   ]
  },
  {
   "cell_type": "code",
   "execution_count": 26,
   "id": "66472e45",
   "metadata": {},
   "outputs": [
    {
     "name": "stdout",
     "output_type": "stream",
     "text": [
      "[[5108  239]\n",
      " [ 370  381]]\n",
      "Acurracy :  0.8817645129550672\n"
     ]
    }
   ],
   "source": [
    "classifier = GaussianNB()\n",
    "classifier.fit(X_train, y_train)\n",
    "NB_guesses = classifier.predict(X_test)\n",
    "print(confusion_matrix(y_test, guesses))\n",
    "print('Acurracy : ', metrics.accuracy_score(y_test, NB_guesses))"
   ]
  },
  {
   "cell_type": "markdown",
   "id": "57b85903",
   "metadata": {},
   "source": [
    "#### - SVC's Accuracy"
   ]
  },
  {
   "cell_type": "markdown",
   "id": "7ae462bf",
   "metadata": {},
   "source": [
    "SVC의 정확도는 약 0.89로 이전과 차이가 없는 정확도를 확인할 수 있다."
   ]
  },
  {
   "cell_type": "code",
   "execution_count": 27,
   "id": "7606ca23",
   "metadata": {},
   "outputs": [
    {
     "name": "stdout",
     "output_type": "stream",
     "text": [
      "[[5108  239]\n",
      " [ 370  381]]\n",
      "Acurracy :  0.8896359462118727\n"
     ]
    }
   ],
   "source": [
    "classifier = SVC(kernel = 'linear')\n",
    "classifier.fit(X_train, y_train)\n",
    "SVC_guesses = classifier.predict(X_test)\n",
    "print(confusion_matrix(y_test, guesses))\n",
    "print('Acurracy : ', metrics.accuracy_score(y_test, SVC_guesses))"
   ]
  },
  {
   "cell_type": "markdown",
   "id": "6520ca42",
   "metadata": {},
   "source": [
    "#### -Knn classifier's Accuracy"
   ]
  },
  {
   "cell_type": "markdown",
   "id": "958963b1",
   "metadata": {},
   "source": [
    "KNN classifier의 정확도는 약 0.87로 이전과 차이가 없는 정확도를 확인할 수 있다."
   ]
  },
  {
   "cell_type": "code",
   "execution_count": 30,
   "id": "8d55143e",
   "metadata": {},
   "outputs": [
    {
     "name": "stdout",
     "output_type": "stream",
     "text": [
      "[[4977  370]\n",
      " [ 401  350]]\n",
      "Acurracy :  0.8735651033125615\n"
     ]
    }
   ],
   "source": [
    "classifier = KNeighborsClassifier(n_neighbors = 1)\n",
    "classifier.fit(X_train, y_train)\n",
    "print(confusion_matrix(y_test, Knn_guesses))\n",
    "print('Acurracy : ', metrics.accuracy_score(y_test, Knn_guesses))"
   ]
  },
  {
   "cell_type": "markdown",
   "id": "57117862",
   "metadata": {},
   "source": [
    "### 7.1.3 Checking out Knn classifier's Accuracy"
   ]
  },
  {
   "cell_type": "markdown",
   "id": "3e7dc99c",
   "metadata": {},
   "source": [
    "다음은 'duration', 'call' ,'emp.var.rate', 'euribor3m','nr.employed' 컬럼만을 학습한 모델의 Acurracy를 나타내는 그래프이다.\n",
    "기존의 최대 Acurracy값과 동일하게, Acurracy가 약 0.901로 가장 높게 나타났음을 알 수 있다."
   ]
  },
  {
   "cell_type": "code",
   "execution_count": 29,
   "id": "a08299d5",
   "metadata": {},
   "outputs": [
    {
     "name": "stdout",
     "output_type": "stream",
     "text": [
      "[0.873, 0.888, 0.886, 0.893, 0.89, 0.893, 0.895, 0.896, 0.899, 0.896, 0.899, 0.897, 0.898, 0.898, 0.9, 0.899, 0.9, 0.899, 0.9, 0.899, 0.9, 0.899, 0.9, 0.901, 0.9, 0.9, 0.9, 0.898, 0.898, 0.899, 0.899, 0.9, 0.899, 0.899, 0.9, 0.899, 0.9, 0.899, 0.899, 0.899, 0.898, 0.899, 0.899, 0.899, 0.9, 0.901, 0.901, 0.9, 0.901]\n"
     ]
    },
    {
     "data": {
      "image/png": "[encoded data removed]",
      "text/plain": [
       "<Figure size 432x288 with 1 Axes>"
      ]
     },
     "metadata": {
      "needs_background": "light"
     },
     "output_type": "display_data"
    }
   ],
   "source": [
    " k_range = range(1, 50)\n",
    "\n",
    "accuracy_scores = []\n",
    "\n",
    "for k in k_range:\n",
    "    classifier = KNeighborsClassifier(n_neighbors = k)\n",
    "    classifier.fit(X_train, y_train)\n",
    "    guesses = classifier.predict(X_test)\n",
    "    accuracy_scores.append(metrics.accuracy_score(y_test, guesses).round(3))\n",
    "print(accuracy_scores)\n",
    "\n",
    "plt.plot(k_range, accuracy_scores)\n",
    "plt.title('Accuracy according to the number of k - Improving Accuracy')\n",
    "plt.xlabel('Value of K for KNN')\n",
    "plt.ylabel('Testing Accuracy')\n",
    "plt.show()"
   ]
  }
 ],
 "metadata": {
  "kernelspec": {
   "display_name": "Python 3 (ipykernel)",
   "language": "python",
   "name": "python3"
  },
  "language_info": {
   "codemirror_mode": {
    "name": "ipython",
    "version": 3
   },
   "file_extension": ".py",
   "mimetype": "text/x-python",
   "name": "python",
   "nbconvert_exporter": "python",
   "pygments_lexer": "ipython3",
   "version": "3.9.12"
  }
 },
 "nbformat": 4,
 "nbformat_minor": 5
}
