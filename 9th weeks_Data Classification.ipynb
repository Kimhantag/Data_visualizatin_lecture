{
 "cells": [
  {
   "cell_type": "markdown",
   "id": "c1ecb109",
   "metadata": {},
   "source": [
    "#                                                                             2018015027 정보통계학과 김한탁"
   ]
  },
  {
   "cell_type": "markdown",
   "id": "525a8976",
   "metadata": {},
   "source": [
    "# 1. Loading libraries"
   ]
  },
  {
   "cell_type": "code",
   "execution_count": 1,
   "id": "47860471",
   "metadata": {},
   "outputs": [],
   "source": [
    "import pandas as pd\n",
    "import numpy as np\n",
    "import matplotlib.pyplot as plt\n",
    "import seaborn as sns\n",
    "\n",
    "from sklearn.model_selection import train_test_split\n",
    "from sklearn.neighbors import KNeighborsClassifier\n",
    "from sklearn.metrics import confusion_matrix\n",
    "from sklearn import metrics"
   ]
  },
  {
   "cell_type": "markdown",
   "id": "a08c7781",
   "metadata": {},
   "source": [
    "# 2. Loading the dataset"
   ]
  },
  {
   "cell_type": "code",
   "execution_count": 2,
   "id": "770f3b9f",
   "metadata": {},
   "outputs": [
    {
     "data": {
      "text/html": [
       "<div>\n",
       "<style scoped>\n",
       "    .dataframe tbody tr th:only-of-type {\n",
       "        vertical-align: middle;\n",
       "    }\n",
       "\n",
       "    .dataframe tbody tr th {\n",
       "        vertical-align: top;\n",
       "    }\n",
       "\n",
       "    .dataframe thead th {\n",
       "        text-align: right;\n",
       "    }\n",
       "</style>\n",
       "<table border=\"1\" class=\"dataframe\">\n",
       "  <thead>\n",
       "    <tr style=\"text-align: right;\">\n",
       "      <th></th>\n",
       "      <th>Id</th>\n",
       "      <th>Clump_thickness</th>\n",
       "      <th>Uniformity_Cell_Size</th>\n",
       "      <th>Uniformity_Cell_Shape</th>\n",
       "      <th>Marginal_Adhesion</th>\n",
       "      <th>Single_Epithelial_Cell_Size</th>\n",
       "      <th>Bare_Nuclei</th>\n",
       "      <th>Bland_Chromatin</th>\n",
       "      <th>Normal_Nucleoli</th>\n",
       "      <th>Mitoses</th>\n",
       "      <th>Class</th>\n",
       "    </tr>\n",
       "  </thead>\n",
       "  <tbody>\n",
       "    <tr>\n",
       "      <th>0</th>\n",
       "      <td>1000025</td>\n",
       "      <td>5</td>\n",
       "      <td>1</td>\n",
       "      <td>1</td>\n",
       "      <td>1</td>\n",
       "      <td>2</td>\n",
       "      <td>1</td>\n",
       "      <td>3</td>\n",
       "      <td>1</td>\n",
       "      <td>1</td>\n",
       "      <td>2</td>\n",
       "    </tr>\n",
       "    <tr>\n",
       "      <th>1</th>\n",
       "      <td>1002945</td>\n",
       "      <td>5</td>\n",
       "      <td>4</td>\n",
       "      <td>4</td>\n",
       "      <td>5</td>\n",
       "      <td>7</td>\n",
       "      <td>10</td>\n",
       "      <td>3</td>\n",
       "      <td>2</td>\n",
       "      <td>1</td>\n",
       "      <td>2</td>\n",
       "    </tr>\n",
       "    <tr>\n",
       "      <th>2</th>\n",
       "      <td>1015425</td>\n",
       "      <td>3</td>\n",
       "      <td>1</td>\n",
       "      <td>1</td>\n",
       "      <td>1</td>\n",
       "      <td>2</td>\n",
       "      <td>2</td>\n",
       "      <td>3</td>\n",
       "      <td>1</td>\n",
       "      <td>1</td>\n",
       "      <td>2</td>\n",
       "    </tr>\n",
       "    <tr>\n",
       "      <th>3</th>\n",
       "      <td>1016277</td>\n",
       "      <td>6</td>\n",
       "      <td>8</td>\n",
       "      <td>8</td>\n",
       "      <td>1</td>\n",
       "      <td>3</td>\n",
       "      <td>4</td>\n",
       "      <td>3</td>\n",
       "      <td>7</td>\n",
       "      <td>1</td>\n",
       "      <td>2</td>\n",
       "    </tr>\n",
       "    <tr>\n",
       "      <th>4</th>\n",
       "      <td>1017023</td>\n",
       "      <td>4</td>\n",
       "      <td>1</td>\n",
       "      <td>1</td>\n",
       "      <td>3</td>\n",
       "      <td>2</td>\n",
       "      <td>1</td>\n",
       "      <td>3</td>\n",
       "      <td>1</td>\n",
       "      <td>1</td>\n",
       "      <td>2</td>\n",
       "    </tr>\n",
       "  </tbody>\n",
       "</table>\n",
       "</div>"
      ],
      "text/plain": [
       "        Id  Clump_thickness  Uniformity_Cell_Size  Uniformity_Cell_Shape  \\\n",
       "0  1000025                5                     1                      1   \n",
       "1  1002945                5                     4                      4   \n",
       "2  1015425                3                     1                      1   \n",
       "3  1016277                6                     8                      8   \n",
       "4  1017023                4                     1                      1   \n",
       "\n",
       "   Marginal_Adhesion  Single_Epithelial_Cell_Size Bare_Nuclei  \\\n",
       "0                  1                            2           1   \n",
       "1                  5                            7          10   \n",
       "2                  1                            2           2   \n",
       "3                  1                            3           4   \n",
       "4                  3                            2           1   \n",
       "\n",
       "   Bland_Chromatin  Normal_Nucleoli  Mitoses  Class  \n",
       "0                3                1        1      2  \n",
       "1                3                2        1      2  \n",
       "2                3                1        1      2  \n",
       "3                3                7        1      2  \n",
       "4                3                1        1      2  "
      ]
     },
     "execution_count": 2,
     "metadata": {},
     "output_type": "execute_result"
    }
   ],
   "source": [
    "df = pd.read_csv('cancer.csv')\n",
    "df.head()"
   ]
  },
  {
   "cell_type": "code",
   "execution_count": 3,
   "id": "96b4dd19",
   "metadata": {},
   "outputs": [
    {
     "data": {
      "text/plain": [
       "(699, 11)"
      ]
     },
     "execution_count": 3,
     "metadata": {},
     "output_type": "execute_result"
    }
   ],
   "source": [
    "df.shape"
   ]
  },
  {
   "cell_type": "code",
   "execution_count": 4,
   "id": "bda0b122",
   "metadata": {
    "scrolled": true
   },
   "outputs": [
    {
     "name": "stdout",
     "output_type": "stream",
     "text": [
      "<class 'pandas.core.frame.DataFrame'>\n",
      "RangeIndex: 699 entries, 0 to 698\n",
      "Data columns (total 11 columns):\n",
      " #   Column                       Non-Null Count  Dtype \n",
      "---  ------                       --------------  ----- \n",
      " 0   Id                           699 non-null    int64 \n",
      " 1   Clump_thickness              699 non-null    int64 \n",
      " 2   Uniformity_Cell_Size         699 non-null    int64 \n",
      " 3   Uniformity_Cell_Shape        699 non-null    int64 \n",
      " 4   Marginal_Adhesion            699 non-null    int64 \n",
      " 5   Single_Epithelial_Cell_Size  699 non-null    int64 \n",
      " 6   Bare_Nuclei                  699 non-null    object\n",
      " 7   Bland_Chromatin              699 non-null    int64 \n",
      " 8   Normal_Nucleoli              699 non-null    int64 \n",
      " 9   Mitoses                      699 non-null    int64 \n",
      " 10  Class                        699 non-null    int64 \n",
      "dtypes: int64(10), object(1)\n",
      "memory usage: 60.2+ KB\n"
     ]
    }
   ],
   "source": [
    "df.info()"
   ]
  },
  {
   "cell_type": "markdown",
   "id": "10de986c",
   "metadata": {},
   "source": [
    "### 2.1 Data information\n",
    "cancer.csv는 총 13개의 컬럼이 있으며, 683개의 데이터로 이루어져 있음.\n",
    "\n",
    "1. Id : id번호\n",
    "2. Clump_thickness: 덩어리 두께\n",
    "3. Uniformity_Cell_Size : 암세포 크기\n",
    "4. Uniformity_Cell_Shape : 세포 모양\n",
    "5. Marginal_Adhesion : 한계\n",
    "6. Single_Epithelial_Cell_Size : 상피세포크기\n",
    "7. Bare_Nuclei : 베어핵, 베어핵의 정도를 순서척도로 나타낸 것으로 보임.\n",
    "8. Bland_Chromatin : 염색질\n",
    "9. Normal_Nucleoli: 정상세포\n",
    "10. Mitoses : 유사분열\n",
    "11. Class : 양성, 음성"
   ]
  },
  {
   "cell_type": "markdown",
   "id": "10c4fdf1",
   "metadata": {},
   "source": [
    "# 3. Data Visualization & Exploratory data analysis: Data Information"
   ]
  },
  {
   "cell_type": "markdown",
   "id": "ea084bf5",
   "metadata": {},
   "source": [
    "### 3.1 결측치 확인 "
   ]
  },
  {
   "cell_type": "markdown",
   "id": "3cedadaa",
   "metadata": {},
   "source": [
    "결측치는 없음"
   ]
  },
  {
   "cell_type": "code",
   "execution_count": 5,
   "id": "c062f173",
   "metadata": {
    "scrolled": true
   },
   "outputs": [
    {
     "data": {
      "text/plain": [
       "Id                             0\n",
       "Clump_thickness                0\n",
       "Uniformity_Cell_Size           0\n",
       "Uniformity_Cell_Shape          0\n",
       "Marginal_Adhesion              0\n",
       "Single_Epithelial_Cell_Size    0\n",
       "Bare_Nuclei                    0\n",
       "Bland_Chromatin                0\n",
       "Normal_Nucleoli                0\n",
       "Mitoses                        0\n",
       "Class                          0\n",
       "dtype: int64"
      ]
     },
     "execution_count": 5,
     "metadata": {},
     "output_type": "execute_result"
    }
   ],
   "source": [
    "df.isna().sum()"
   ]
  },
  {
   "cell_type": "markdown",
   "id": "e6183082",
   "metadata": {},
   "source": [
    "### 3.2 이상치 확인"
   ]
  },
  {
   "cell_type": "markdown",
   "id": "392042d1",
   "metadata": {},
   "source": [
    "다음은 수치형 자료형인 컬럼들의 boxplot이다.  \n",
    "이상치가 Marginal_Adhesion, Single_Epithelial_Cell_size, Bland_Chromatin, Normal_Nucleoli, Mitoses의 컬럼에서 발견되었다.  Mitoses 컬럼을 제외한 나머지 컬럼들의 이상치는 개수도 적고, 값도 크게 벗어나지 않는다고 생각하여 정상적인 값으로 고려될 수 있다고 생각된다.   \n",
    "그러나 Mitoses의 이상치들은 일반적인 값들과 확연히 차이나는 것으로 생각되어, 제거를 고려할 필요가 있다."
   ]
  },
  {
   "cell_type": "code",
   "execution_count": 6,
   "id": "78447af8",
   "metadata": {
    "scrolled": true
   },
   "outputs": [
    {
     "data": {
      "image/png": "[encoded data removed]",
      "text/plain": [
       "<Figure size 432x288 with 1 Axes>"
      ]
     },
     "metadata": {
      "needs_background": "light"
     },
     "output_type": "display_data"
    }
   ],
   "source": [
    "# 3. Exploratory data analysis: Outliers?\n",
    "data_to_boxplot = [df['Clump_thickness'],\n",
    "                   df['Uniformity_Cell_Size'],\n",
    "                   df['Uniformity_Cell_Shape'],\n",
    "                   df['Marginal_Adhesion'],\n",
    "                   df['Single_Epithelial_Cell_Size'],\n",
    "                   df['Bland_Chromatin'],\n",
    "                   df['Normal_Nucleoli'],\n",
    "                   df['Mitoses']]\n",
    "plt.boxplot(data_to_boxplot)\n",
    "plt.title('columns outlier')\n",
    "plt.xlabel('Attributes')\n",
    "plt.ylabel('Value')\n",
    "plt.show()"
   ]
  },
  {
   "cell_type": "markdown",
   "id": "41c53cca",
   "metadata": {},
   "source": [
    "### 3.3 특정 칼럼 확인"
   ]
  },
  {
   "cell_type": "markdown",
   "id": "ad454d7a",
   "metadata": {},
   "source": [
    "Bare_Nuclei 컬럼은 bare 핵의 정도를 순서척도로 나타낸 것으로, 정도에 따라 숫자의 크기로 표현되었음을 알 수 있다.   \n",
    "따라서 object형이 아닌 int형으로 변환하여, 상관관계를 파악하는 것이 적절하다고 판단하고, Bare_Nuclei의 자료형 변환을 고려하였다."
   ]
  },
  {
   "cell_type": "code",
   "execution_count": 7,
   "id": "4060b86e",
   "metadata": {},
   "outputs": [
    {
     "data": {
      "text/plain": [
       "array(['1', '10', '2', '4', '3', '9', '7', '?', '5', '8', '6'],\n",
       "      dtype=object)"
      ]
     },
     "execution_count": 7,
     "metadata": {},
     "output_type": "execute_result"
    }
   ],
   "source": [
    "df['Bare_Nuclei'].unique()"
   ]
  },
  {
   "cell_type": "markdown",
   "id": "0438990a",
   "metadata": {},
   "source": [
    "Bare_Nuclei 컬럼의 unique한 값들 중 순서척도가 아닌 '?'값이 발견되었고, 이것을 제거한 뒤 자료형을 변환하는 것이 적절하다고 생각된다."
   ]
  },
  {
   "cell_type": "code",
   "execution_count": 8,
   "id": "b7bc5d9e",
   "metadata": {},
   "outputs": [
    {
     "data": {
      "text/plain": [
       "array(['1', '10', '2', '4', '3', '9', '7', '5', '8', '6'], dtype=object)"
      ]
     },
     "execution_count": 8,
     "metadata": {},
     "output_type": "execute_result"
    }
   ],
   "source": [
    "df=df.drop(df[df['Bare_Nuclei']==\"?\"].index)\n",
    "df['Bare_Nuclei'].unique()"
   ]
  },
  {
   "cell_type": "code",
   "execution_count": 9,
   "id": "6b31b343",
   "metadata": {},
   "outputs": [],
   "source": [
    "df['Bare_Nuclei']=df['Bare_Nuclei'].astype('int')"
   ]
  },
  {
   "cell_type": "markdown",
   "id": "d9ae343f",
   "metadata": {},
   "source": [
    "### 3.4 컬럼 간 상관관계 확인"
   ]
  },
  {
   "cell_type": "markdown",
   "id": "c0a3eaf1",
   "metadata": {},
   "source": [
    "다음은 컬럼 간의 상관관계 heatmap이다.\n",
    "heatmap을 통해 target과 각각의 컬럼들간의 상관계수를 확인하여 상관관계가 낮은 컬럼들을 제거할 수 있으며, 추가적으로 target을 제외한 컬럼들 간의 상관계수를 통해 다중공선성이 높은(상관계수가 큰) 변수를 제거하여 모델의 성능을 높이는데 도움을 줄 수 있다.  \n",
    "target과의 상관계수를 확인했을 때, Id와 Mitoses 컬럼을 제외한 대부분의 컬럼이 0.7이상의 상관계수를 나타냄을 알 수 있다.  \n",
    "따라서 Id, Mitoses 컬럼은 제거하는 것이 바람직하다고 생각되며, 다중공선성을 해소를 위해 상관계수가 0.91로 매우 높은 Uniformity_Cell_Size, Uniformity_Cell_Shape 중 하나의 컬럼을 제거하는 것이 고려될 수 있다."
   ]
  },
  {
   "cell_type": "code",
   "execution_count": 10,
   "id": "0ee1be38",
   "metadata": {},
   "outputs": [
    {
     "data": {
      "text/plain": [
       "Text(0.5, 1.0, 'correlation heatmap')"
      ]
     },
     "execution_count": 10,
     "metadata": {},
     "output_type": "execute_result"
    },
    {
     "data": {
      "image/png": "[encoded data removed]",
      "text/plain": [
       "<Figure size 1152x360 with 2 Axes>"
      ]
     },
     "metadata": {
      "needs_background": "light"
     },
     "output_type": "display_data"
    }
   ],
   "source": [
    "dfcorr = df.corr()\n",
    "plt.figure(figsize=(16,5))\n",
    "sns.heatmap(data = dfcorr, annot=True)\n",
    "plt.title('correlation heatmap')"
   ]
  },
  {
   "cell_type": "markdown",
   "id": "931d6fcb",
   "metadata": {},
   "source": [
    "### 3.5 target(class)의 비율 "
   ]
  },
  {
   "cell_type": "markdown",
   "id": "69ea68fb",
   "metadata": {},
   "source": [
    "target이 범주형일 때, 비율을 살펴보는 것은 의미가 있다.\n",
    "target 중 한개의 값의 비율이 압도적으로 크다면, 모델 학습과 예측이 무의미해질 수 있기 때문이다.\n",
    "따라서 target의 값은 적절한 비율로 나타나는 것이 바람직하며, 비율이 불균형할 경우 학습에 사용할 데이터에 대해 과소표잡이나 과대표집등의 방법을 사용하는 것이 적절하다고 생각된다."
   ]
  },
  {
   "cell_type": "code",
   "execution_count": 11,
   "id": "5a0fada5",
   "metadata": {},
   "outputs": [
    {
     "data": {
      "text/plain": [
       "array([2, 4], dtype=int64)"
      ]
     },
     "execution_count": 11,
     "metadata": {},
     "output_type": "execute_result"
    }
   ],
   "source": [
    "df['Class'].unique()"
   ]
  },
  {
   "cell_type": "code",
   "execution_count": 12,
   "id": "3fe26422",
   "metadata": {},
   "outputs": [
    {
     "name": "stdout",
     "output_type": "stream",
     "text": [
      "2    444\n",
      "4    239\n",
      "Name: Class, dtype: int64\n",
      "\n",
      "2    0.650073\n",
      "4    0.349927\n",
      "Name: Class, dtype: float64\n"
     ]
    }
   ],
   "source": [
    "print(df['Class'].value_counts())\n",
    "print()\n",
    "print(df['Class'].value_counts()/np.float64(len(df)))"
   ]
  },
  {
   "cell_type": "markdown",
   "id": "18cd727a",
   "metadata": {},
   "source": [
    "target의 값 '2', '4'이 약 6.5:3.5의 비율로 학습에 사용하기에 전체데이터를 사용해도 크게 문제되지 않을 것으로 생각된다."
   ]
  },
  {
   "cell_type": "markdown",
   "id": "2751734b",
   "metadata": {},
   "source": [
    "### 3.6 Data preprocessing(결론)"
   ]
  },
  {
   "cell_type": "markdown",
   "id": "73541707",
   "metadata": {},
   "source": [
    "#### 1. 특정 컬럼의 이상값 제거 (3.3) -> 7\n",
    "= Bare_Nuclei의 이상값 제거 및 자료형 변환\n",
    "\n",
    "#### 2. 불필요한 컬럼 제거 -> 7.1\n",
    "= Id, MItose 컬럼 제거"
   ]
  },
  {
   "cell_type": "markdown",
   "id": "8992c28e",
   "metadata": {},
   "source": [
    "# 4. Split data into separate training and test set"
   ]
  },
  {
   "cell_type": "markdown",
   "id": "2c5df317",
   "metadata": {},
   "source": [
    "training, test data의 비율은 8:2로 나누었다."
   ]
  },
  {
   "cell_type": "code",
   "execution_count": 13,
   "id": "f3190fc1",
   "metadata": {},
   "outputs": [],
   "source": [
    "training_points = df.drop(columns=['Class'])\n",
    "training_labels = df['Class']\n",
    "\n",
    "X_train, X_test, y_train, y_test = train_test_split(training_points,\n",
    "                                                    training_labels,\n",
    "                                                    test_size=0.2,\n",
    "                                                    random_state=4)"
   ]
  },
  {
   "cell_type": "markdown",
   "id": "f4561c55",
   "metadata": {},
   "source": [
    "# 5. Training model(Fit K Neighbours Classifier)"
   ]
  },
  {
   "cell_type": "markdown",
   "id": "a57ce057",
   "metadata": {},
   "source": [
    "다음은 K Neighbors Clasifier 모델을 학습시키고, test data(X_test)에 대해 Target을 예측하는 과정이다.  \n",
    "데이터가 속한 군집을 분류하기 위해 고려할 데이터(n_neighbors)를 1개로 설정하였으며, guesses는 X_test에 대한 target의 예측 값을 나타낸다."
   ]
  },
  {
   "cell_type": "code",
   "execution_count": 14,
   "id": "ed892915",
   "metadata": {
    "scrolled": true
   },
   "outputs": [
    {
     "name": "stdout",
     "output_type": "stream",
     "text": [
      "[2 4 2 4 4 2 4 2 2 2 2 2 4 2 4 2 2 2 2 2 4 4 2 4 2 2 2 2 2 4 2 4 4 2 2 2 4\n",
      " 2 2 2 2 4 2 2 4 2 2 2 4 4 2 2 2 4 4 2 2 2 2 2 2 4 2 2 4 2 2 2 2 2 2 2 4 2\n",
      " 2 2 2 4 4 2 2 2 2 4 4 4 2 4 2 2 2 2 2 2 4 4 2 2 2 2 2 2 2 2 2 2 2 2 4 2 2\n",
      " 2 4 4 4 2 2 2 2 2 2 2 4 4 2 2 4 2 2 2 2 2 2 2 2 4 2]\n"
     ]
    }
   ],
   "source": [
    "classifier = KNeighborsClassifier(n_neighbors = 1)\n",
    "classifier.fit(X_train, y_train)\n",
    "guesses = classifier.predict(X_test)\n",
    "print(guesses)"
   ]
  },
  {
   "cell_type": "markdown",
   "id": "36e06a93",
   "metadata": {},
   "source": [
    "# 6. Checking out Accuracy"
   ]
  },
  {
   "cell_type": "markdown",
   "id": "209df3dd",
   "metadata": {},
   "source": [
    "모델의 학습 성능을 판단하기 위한 평가 지표는 Acurracy를 사용하였다.  \n",
    "Accuracy는 모델이 test 데이터의 실제 target과 예측 target 간의 정답의 수를 통해 계산되며, 올바른 예측 target / 전체 target 수로 표현된다.  \n",
    "아래의 경우 전체 예측된 타겟 137개 중 70개, 18개가 '2', '4'를 정확하게 예측하였음을 알 수 있다.  \n",
    "따라서 Acurracy는 98/137=0.6423357664233577로 나타났다."
   ]
  },
  {
   "cell_type": "code",
   "execution_count": 15,
   "id": "7a56373e",
   "metadata": {},
   "outputs": [
    {
     "name": "stdout",
     "output_type": "stream",
     "text": [
      "[[70 20]\n",
      " [29 18]]\n",
      "Acurracy :  0.6423357664233577\n"
     ]
    }
   ],
   "source": [
    "print(confusion_matrix(y_test, guesses))\n",
    "print('Acurracy : ', metrics.accuracy_score(y_test, guesses))"
   ]
  },
  {
   "cell_type": "markdown",
   "id": "8d3a0987",
   "metadata": {},
   "source": [
    "# 7. Improving Accuracy: Tuning k parameter "
   ]
  },
  {
   "cell_type": "markdown",
   "id": "6209a593",
   "metadata": {},
   "source": [
    "다음은 데이터가 속한 군집을 분류하기 위해 고려할 데이터(n_neighbors) 수에 따른 Acurracy의 변화로, 1 ~ 50의 범위를 고려한 결과이다. n_neighbors가 12 ~ 14의 경우에, Acurracy가 약 0.693로 가장 높게 나타났음을 알 수 있다."
   ]
  },
  {
   "cell_type": "code",
   "execution_count": 16,
   "id": "353c5c40",
   "metadata": {},
   "outputs": [
    {
     "name": "stdout",
     "output_type": "stream",
     "text": [
      "[0.642, 0.635, 0.606, 0.657, 0.635, 0.628, 0.642, 0.65, 0.686, 0.672, 0.672, 0.693, 0.693, 0.693, 0.686, 0.686, 0.65, 0.657, 0.642, 0.664, 0.657, 0.679, 0.664, 0.664, 0.664, 0.686, 0.65, 0.657, 0.664, 0.664, 0.65, 0.657, 0.62, 0.65, 0.628, 0.672, 0.664, 0.657, 0.679, 0.679, 0.664, 0.672, 0.679, 0.679, 0.664, 0.664, 0.672, 0.672, 0.672]\n"
     ]
    },
    {
     "data": {
      "image/png": "[encoded data removed]",
      "text/plain": [
       "<Figure size 432x288 with 1 Axes>"
      ]
     },
     "metadata": {
      "needs_background": "light"
     },
     "output_type": "display_data"
    }
   ],
   "source": [
    "k_range = range(1, 50)\n",
    "\n",
    "accuracy_scores = []\n",
    "\n",
    "for k in k_range:\n",
    "    classifier = KNeighborsClassifier(n_neighbors = k)\n",
    "    classifier.fit(X_train, y_train)\n",
    "    guesses = classifier.predict(X_test)\n",
    "    accuracy_scores.append(metrics.accuracy_score(y_test, guesses).round(3))\n",
    "print(accuracy_scores)\n",
    "\n",
    "plt.plot(k_range, accuracy_scores)\n",
    "plt.title('Accuracy according to the number of k')\n",
    "plt.xlabel('Value of K for KNN')\n",
    "plt.ylabel('Testing Accuracy')\n",
    "plt.show()"
   ]
  },
  {
   "cell_type": "markdown",
   "id": "9b2390ac",
   "metadata": {},
   "source": [
    "# 7.1 Improving Accuracy : 불필요한 컬럼제거"
   ]
  },
  {
   "cell_type": "markdown",
   "id": "e72348df",
   "metadata": {},
   "source": [
    "3.4의 상관계수 heatmap에서 target과 Id, Mitoses 컬럼이 각각 낮은 상관계수(약 -0.085, 약 0.43)를 갖는 것을 알 수 있었다.  \n",
    "따라서 모델의 성능 향상을 위해 Id, Mitoses 컬럼을 training data에서 제거하기로 하였다."
   ]
  },
  {
   "cell_type": "markdown",
   "id": "7b1fcc57",
   "metadata": {},
   "source": [
    "### 7.1.1 Split data into separate training and test set"
   ]
  },
  {
   "cell_type": "markdown",
   "id": "35a48a5e",
   "metadata": {},
   "source": [
    "불필요한 컬럼 제거(Id, MItose 컬럼 제거)"
   ]
  },
  {
   "cell_type": "code",
   "execution_count": 17,
   "id": "c80261df",
   "metadata": {},
   "outputs": [],
   "source": [
    "training_points = df.drop(columns=['Class', 'Id', 'Mitoses'])\n",
    "training_labels = df['Class']\n",
    "\n",
    "X_train, X_test, y_train, y_test = train_test_split(training_points,\n",
    "                                                    training_labels,\n",
    "                                                    test_size=0.2,\n",
    "                                                    random_state=4)"
   ]
  },
  {
   "cell_type": "markdown",
   "id": "3089be1b",
   "metadata": {},
   "source": [
    "### 7.1.2 Training model(Fit K Neighbours Classifier)"
   ]
  },
  {
   "cell_type": "code",
   "execution_count": 18,
   "id": "8d55143e",
   "metadata": {},
   "outputs": [
    {
     "data": {
      "text/plain": [
       "KNeighborsClassifier(n_neighbors=1)"
      ]
     },
     "execution_count": 18,
     "metadata": {},
     "output_type": "execute_result"
    }
   ],
   "source": [
    "classifier = KNeighborsClassifier(n_neighbors = 1)\n",
    "classifier.fit(X_train, y_train)"
   ]
  },
  {
   "cell_type": "markdown",
   "id": "57117862",
   "metadata": {},
   "source": [
    "### 7.1.3 Checking out Accuracy"
   ]
  },
  {
   "cell_type": "markdown",
   "id": "3e7dc99c",
   "metadata": {},
   "source": [
    "다음은 Id, Mitoses를 제거한 데이터셋을 학습한 모델의 Acurracy를 나타내는 그래프이다.\n",
    "기존의 최대 Acurracy값인 약 0.693보다 확연히 높아진 Acurracy들을 확인할 수 있으며, n_neighbors가 22 ~ 44의 경우에, Acurracy가 약 0.985로 가장 높게 나타났음을 알 수 있다."
   ]
  },
  {
   "cell_type": "code",
   "execution_count": 19,
   "id": "a08299d5",
   "metadata": {},
   "outputs": [
    {
     "name": "stdout",
     "output_type": "stream",
     "text": [
      "[0.978, 0.964, 0.971, 0.971, 0.971, 0.978, 0.971, 0.978, 0.964, 0.971, 0.964, 0.964, 0.964, 0.971, 0.964, 0.971, 0.964, 0.978, 0.971, 0.978, 0.978, 0.985, 0.985, 0.985, 0.985, 0.985, 0.985, 0.985, 0.985, 0.985, 0.985, 0.985, 0.985, 0.985, 0.985, 0.985, 0.985, 0.985, 0.985, 0.985, 0.985, 0.985, 0.985, 0.978, 0.978, 0.978, 0.978, 0.978, 0.978]\n"
     ]
    },
    {
     "data": {
      "image/png": "[encoded data removed]",
      "text/plain": [
       "<Figure size 432x288 with 1 Axes>"
      ]
     },
     "metadata": {
      "needs_background": "light"
     },
     "output_type": "display_data"
    }
   ],
   "source": [
    " k_range = range(1, 50)\n",
    "\n",
    "accuracy_scores = []\n",
    "\n",
    "for k in k_range:\n",
    "    classifier = KNeighborsClassifier(n_neighbors = k)\n",
    "    classifier.fit(X_train, y_train)\n",
    "    guesses = classifier.predict(X_test)\n",
    "    accuracy_scores.append(metrics.accuracy_score(y_test, guesses).round(3))\n",
    "print(accuracy_scores)\n",
    "\n",
    "plt.plot(k_range, accuracy_scores)\n",
    "plt.xlabel('Value of K for KNN')\n",
    "plt.ylabel('Testing Accuracy')\n",
    "plt.show()"
   ]
  }
 ],
 "metadata": {
  "kernelspec": {
   "display_name": "Python 3 (ipykernel)",
   "language": "python",
   "name": "python3"
  },
  "language_info": {
   "codemirror_mode": {
    "name": "ipython",
    "version": 3
   },
   "file_extension": ".py",
   "mimetype": "text/x-python",
   "name": "python",
   "nbconvert_exporter": "python",
   "pygments_lexer": "ipython3",
   "version": "3.11.7"
  }
 },
 "nbformat": 4,
 "nbformat_minor": 5
}
